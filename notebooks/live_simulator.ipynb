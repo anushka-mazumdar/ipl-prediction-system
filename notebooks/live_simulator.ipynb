{
 "cells": [
  {
   "cell_type": "code",
   "execution_count": 11,
   "id": "829c4794",
   "metadata": {},
   "outputs": [],
   "source": [
    "import os\n",
    "os.chdir(\"C:/Users/Anushka/Desktop/anushka/ML/projects_vscode/IPL prediction system\")\n"
   ]
  },
  {
   "cell_type": "code",
   "execution_count": 12,
   "id": "24504c86",
   "metadata": {},
   "outputs": [
    {
     "name": "stdout",
     "output_type": "stream",
     "text": [
      "   match_id  inning           batting_team                 bowling_team  over  \\\n",
      "0    335982       1  Kolkata Knight Riders  Royal Challengers Bangalore     0   \n",
      "1    335982       1  Kolkata Knight Riders  Royal Challengers Bangalore     0   \n",
      "2    335982       1  Kolkata Knight Riders  Royal Challengers Bangalore     0   \n",
      "3    335982       1  Kolkata Knight Riders  Royal Challengers Bangalore     0   \n",
      "4    335982       1  Kolkata Knight Riders  Royal Challengers Bangalore     0   \n",
      "\n",
      "   ball       batter   bowler  non_striker  batsman_runs  extra_runs  \\\n",
      "0     1   SC Ganguly  P Kumar  BB McCullum             0           1   \n",
      "1     2  BB McCullum  P Kumar   SC Ganguly             0           0   \n",
      "2     3  BB McCullum  P Kumar   SC Ganguly             0           1   \n",
      "3     4  BB McCullum  P Kumar   SC Ganguly             0           0   \n",
      "4     5  BB McCullum  P Kumar   SC Ganguly             0           0   \n",
      "\n",
      "   total_runs extras_type  is_wicket player_dismissed dismissal_kind fielder  \n",
      "0           1     legbyes          0              NaN            NaN     NaN  \n",
      "1           0         NaN          0              NaN            NaN     NaN  \n",
      "2           1       wides          0              NaN            NaN     NaN  \n",
      "3           0         NaN          0              NaN            NaN     NaN  \n",
      "4           0         NaN          0              NaN            NaN     NaN  \n"
     ]
    }
   ],
   "source": [
    "import pandas as pd\n",
    "df=pd.read_csv(\"data_processing/raw_data/deliveries.csv\")\n",
    "print(df.head())"
   ]
  },
  {
   "cell_type": "code",
   "execution_count": 13,
   "id": "14b8acc8",
   "metadata": {},
   "outputs": [
    {
     "name": "stdout",
     "output_type": "stream",
     "text": [
      "Simulating Match ID 1\n"
     ]
    }
   ],
   "source": [
    "match_id = 1\n",
    "match_data = df[df['match_id'] == match_id]\n",
    "match_data = match_data.sort_values(by=['inning', 'over', 'ball'])\n",
    "print(f\"Simulating Match ID {match_id}\")"
   ]
  },
  {
   "cell_type": "code",
   "execution_count": 18,
   "id": "33046a8b",
   "metadata": {},
   "outputs": [],
   "source": [
    "overs = match_data['over'].unique()\n",
    "for over_num in overs:\n",
    "    print(f\"\\n--- Over {over_num} ---\")\n",
    "    \n",
    "    over_data = match_data[match_data['over'] == over_num]\n",
    "    print(over_data[['batsman', 'bowler', 'batsman_runs', 'total_runs']])\n",
    "    input(\"Press Enter to simulate next over...\")"
   ]
  },
  {
   "cell_type": "code",
   "execution_count": 20,
   "id": "6a2d3f3b",
   "metadata": {},
   "outputs": [],
   "source": [
    "def simulate_match(match_id):\n",
    "    df = pd.read_csv('data_processing/raw_data/deliveries.csv')\n",
    "    match_data = df[df['match_id'] == match_id].sort_values(by=['inning', 'over', 'ball'])\n",
    "    overs = match_data['over'].unique()\n",
    "\n",
    "    for over_num in overs:\n",
    "        print(f\"\\n--- Over {over_num} ---\")\n",
    "        over_data = match_data[match_data['over'] == over_num]\n",
    "        print(over_data[['batsman', 'bowler', 'batsman_runs', 'total_runs']])\n",
    "        \n",
    "        score_so_far = match_data[match_data['over'] <= over_num]['total_runs'].sum()\n",
    "        \n",
    "        if score_so_far < 50 and over_num >= 6:\n",
    "            prediction = \"Low score likely – Losing chance is high\"\n",
    "        elif score_so_far > 100 and over_num >= 10:\n",
    "            prediction = \"Strong scoring rate – Win likely\"\n",
    "        else:\n",
    "            prediction = \"Too early to tell\"\n",
    "\n",
    "        print(f\"Prediction after over {over_num}: {prediction}\")\n",
    "        input(\"Press Enter to simulate next over...\")\n",
    "\n",
    "simulate_match(match_id=1)"
   ]
  },
  {
   "cell_type": "code",
   "execution_count": null,
   "id": "e88f5f80",
   "metadata": {},
   "outputs": [],
   "source": []
  }
 ],
 "metadata": {
  "kernelspec": {
   "display_name": "venv",
   "language": "python",
   "name": "python3"
  },
  "language_info": {
   "codemirror_mode": {
    "name": "ipython",
    "version": 3
   },
   "file_extension": ".py",
   "mimetype": "text/x-python",
   "name": "python",
   "nbconvert_exporter": "python",
   "pygments_lexer": "ipython3",
   "version": "3.11.8"
  }
 },
 "nbformat": 4,
 "nbformat_minor": 5
}
