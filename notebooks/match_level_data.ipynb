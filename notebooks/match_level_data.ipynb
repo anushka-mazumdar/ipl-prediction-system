{
 "cells": [
  {
   "cell_type": "markdown",
   "id": "ae59a753",
   "metadata": {},
   "source": [
    "Let's Create a match_level_data.csv\n",
    "We can generate it from final_feature.csv"
   ]
  },
  {
   "cell_type": "code",
   "execution_count": 1,
   "id": "5761075c",
   "metadata": {},
   "outputs": [],
   "source": [
    "import pandas as pd\n",
    "from sklearn.preprocessing import LabelEncoder\n",
    "import os\n",
    "os.chdir(\"C:/Users/Anushka/Desktop/anushka/ML/projects_vscode/IPL prediction system\")\n",
    "\n",
    "df = pd.read_csv(\"data_processing/processed_data/final_features.csv\")\n",
    "\n",
    "# Only use 1st innings stats to simulate pre-match prediction\n",
    "df = df[df['match_id'].duplicated() == False]\n",
    "\n",
    "# Rename columns for clarity\n",
    "df = df.rename(columns={\n",
    "    'batting_team': 'team1',\n",
    "    'innings_total_runs': 'team1_score',\n",
    "    'wickets_lost': 'team1_wickets'\n",
    "})\n",
    "\n",
    "# Drop nulls if any\n",
    "df = df.dropna(subset=['winner', 'team1'])\n",
    "\n",
    "# Encode target\n",
    "label_encoder = LabelEncoder()\n",
    "df['winner_encoded'] = label_encoder.fit_transform(df['winner'])\n",
    "\n",
    "# Save for training\n",
    "df[['match_id', 'team1', 'team1_score', 'team1_wickets', 'winner', 'winner_encoded']].to_csv(\"match_level_data.csv\", index=False)\n"
   ]
  },
  {
   "cell_type": "code",
   "execution_count": null,
   "id": "d249ec94",
   "metadata": {},
   "outputs": [],
   "source": []
  }
 ],
 "metadata": {
  "kernelspec": {
   "display_name": "venv",
   "language": "python",
   "name": "python3"
  },
  "language_info": {
   "codemirror_mode": {
    "name": "ipython",
    "version": 3
   },
   "file_extension": ".py",
   "mimetype": "text/x-python",
   "name": "python",
   "nbconvert_exporter": "python",
   "pygments_lexer": "ipython3",
   "version": "3.11.8"
  }
 },
 "nbformat": 4,
 "nbformat_minor": 5
}
