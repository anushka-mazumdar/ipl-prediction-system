{
 "cells": [
  {
   "cell_type": "code",
   "execution_count": 1,
   "id": "d62d9f5c",
   "metadata": {},
   "outputs": [],
   "source": [
    "import os\n",
    "os.chdir(\"C:/Users/Anushka/Desktop/anushka/ML/projects_vscode/IPL prediction system\")"
   ]
  },
  {
   "cell_type": "code",
   "execution_count": 3,
   "id": "a8c5cef5",
   "metadata": {},
   "outputs": [
    {
     "name": "stderr",
     "output_type": "stream",
     "text": [
      "C:\\Users\\Anushka\\AppData\\Local\\Temp\\ipykernel_1300\\2669094290.py:5: DtypeWarning: Columns (17,33) have mixed types. Specify dtype option on import or set low_memory=False.\n",
      "  df = pd.read_csv(\"data_processing/processed_data/merged.csv\")\n"
     ]
    }
   ],
   "source": [
    "import pandas as pd\n",
    "import os\n",
    "\n",
    "# Load merged delivery data\n",
    "df = pd.read_csv(\"data_processing/processed_data/merged.csv\")\n",
    "\n",
    "# Ensure match dates are sorted\n",
    "df['date'] = pd.to_datetime(df['date'])\n",
    "df = df.sort_values(['batter', 'date'])\n"
   ]
  },
  {
   "cell_type": "code",
   "execution_count": 4,
   "id": "81050df7",
   "metadata": {},
   "outputs": [],
   "source": [
    "# --- Batting Trends (Last 5 Matches Average Runs) ---\n",
    "batting_trends = df.groupby(['batter', 'match_id']).agg({\n",
    "    'batsman_runs': 'sum',\n",
    "    'date': 'first'\n",
    "}).reset_index()\n",
    "\n",
    "batting_trends['avg_runs_last_5'] = (\n",
    "    batting_trends.groupby('batter')['batsman_runs']\n",
    "    .transform(lambda x: x.shift().rolling(window=5, min_periods=1).mean())\n",
    ")\n",
    "\n",
    "# --- Bowling Trends (Last 5 Matches Average Wickets) ---\n",
    "df['wicket'] = df['is_wicket'].apply(lambda x: 1 if x == 1 else 0)\n",
    "\n",
    "bowling_trends = df.groupby(['bowler', 'match_id']).agg({\n",
    "    'wicket': 'sum',\n",
    "    'date': 'first'\n",
    "}).reset_index()\n",
    "\n",
    "bowling_trends['avg_wickets_last_5'] = (\n",
    "    bowling_trends.groupby('bowler')['wicket']\n",
    "    .transform(lambda x: x.shift().rolling(window=5, min_periods=1).mean())\n",
    ")\n"
   ]
  },
  {
   "cell_type": "code",
   "execution_count": 5,
   "id": "3d821a7b",
   "metadata": {},
   "outputs": [],
   "source": [
    "batting_trends.rename(columns={'batter': 'player'}, inplace=True)\n",
    "bowling_trends.rename(columns={'bowler': 'player'}, inplace=True)\n",
    "\n",
    "player_trends = pd.merge(batting_trends[['player', 'match_id', 'avg_runs_last_5']],\n",
    "                         bowling_trends[['player', 'match_id', 'avg_wickets_last_5']],\n",
    "                         on=['player', 'match_id'], how='outer')\n"
   ]
  },
  {
   "cell_type": "code",
   "execution_count": 6,
   "id": "fc343b5c",
   "metadata": {},
   "outputs": [
    {
     "name": "stdout",
     "output_type": "stream",
     "text": [
      "✅ player_trends.csv saved.\n"
     ]
    }
   ],
   "source": [
    "os.makedirs(\"data_processing/processed_data\", exist_ok=True)\n",
    "player_trends.to_csv(\"data_processing/processed_data/player_trends.csv\", index=False)\n",
    "print(\"✅ player_trends.csv saved.\")"
   ]
  },
  {
   "cell_type": "code",
   "execution_count": null,
   "id": "979012c5",
   "metadata": {},
   "outputs": [],
   "source": []
  }
 ],
 "metadata": {
  "kernelspec": {
   "display_name": "venv",
   "language": "python",
   "name": "python3"
  },
  "language_info": {
   "codemirror_mode": {
    "name": "ipython",
    "version": 3
   },
   "file_extension": ".py",
   "mimetype": "text/x-python",
   "name": "python",
   "nbconvert_exporter": "python",
   "pygments_lexer": "ipython3",
   "version": "3.11.8"
  }
 },
 "nbformat": 4,
 "nbformat_minor": 5
}
